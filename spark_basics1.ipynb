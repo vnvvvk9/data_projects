{
  "nbformat": 4,
  "nbformat_minor": 0,
  "metadata": {
    "colab": {
      "provenance": [],
      "toc_visible": true,
      "authorship_tag": "ABX9TyM1EjLAAEYrsxUS1hvFk9+5",
      "include_colab_link": true
    },
    "kernelspec": {
      "name": "python3",
      "display_name": "Python 3"
    },
    "language_info": {
      "name": "python"
    }
  },
  "cells": [
    {
      "cell_type": "markdown",
      "metadata": {
        "id": "view-in-github",
        "colab_type": "text"
      },
      "source": [
        "<a href=\"https://colab.research.google.com/github/vnvvvk9/data_projects/blob/main/spark_basics1.ipynb\" target=\"_parent\"><img src=\"https://colab.research.google.com/assets/colab-badge.svg\" alt=\"Open In Colab\"/></a>"
      ]
    },
    {
      "cell_type": "code",
      "execution_count": null,
      "metadata": {
        "id": "v8QPyrXK_Wq5"
      },
      "outputs": [],
      "source": [
        "# prompt: spark code to read and count words in textfiles\n",
        "\n",
        "!pip install pyspark\n",
        "\n",
        "from pyspark.sql import SparkSession\n",
        "from pyspark.sql.functions import explode, split\n",
        "\n",
        "spark = SparkSession.builder.appName(\"WordCount\").getOrCreate()\n",
        "\n",
        "# Replace 'textfiles' with the actual path to your text files directory in Google Colab\n",
        "text_files_path = \"textfiles\"\n",
        "\n",
        "try:\n",
        "    # Read all text files in the specified directory\n",
        "    df = spark.read.text(text_files_path)\n",
        "\n",
        "    # Split each line into words\n",
        "    words = df.select(explode(split(df.value, \" \")).alias(\"word\"))\n",
        "\n",
        "    # Count the occurrences of each word\n",
        "    word_counts = words.groupBy(\"word\").count()\n",
        "\n",
        "    # Show the word counts (optional: you can save this to a file or further process it)\n",
        "    word_counts.show()\n",
        "\n",
        "    spark.stop()\n",
        "\n",
        "except Exception as e:\n",
        "    print(f\"An error occurred: {e}\")\n",
        "    spark.stop()"
      ]
    },
    {
      "cell_type": "markdown",
      "source": [
        "# New Section"
      ],
      "metadata": {
        "id": "S81nH3jb_w1B"
      }
    }
  ]
}